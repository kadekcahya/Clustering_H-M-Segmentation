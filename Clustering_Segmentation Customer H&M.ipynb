{
 "cells": [
  {
   "cell_type": "markdown",
   "id": "07c15e41",
   "metadata": {},
   "source": [
    "# Clustering\n",
    "\n",
    "Clustering merupakan sebuah teknik yang digunakan untuk menemukan sub-kelompok atau kluster. Prinsip dari clustering adalah data-data yang termasuk dalam kluster yang sama “diharapkan” memiliki kesamaan satu dengan yang lainnya, sedangkan data-data yang ada dalam kluster yang berbeda cukup berbeda dari satu kluster dengan cluster yang lainnya. Meskipun tanpa label, clustering memanfaatkan “karakter/pola” pada data bahwa data yang “mirip” akan berdekatan, seperti pada gambar di samping.\n",
    "\n"
   ]
  },
  {
   "cell_type": "markdown",
   "id": "9810c65d",
   "metadata": {},
   "source": [
    "Bertujuan untuk membuat segmentasi customer yang dimana merupakan proses membagi pelanggan berdasarkan karakteristik umum, seperti demografi atau perilaku, sehingga perusahaan dapat melakukan pemasaran secara lebih efektif.\n",
    "\n",
    "Beberapa keuntungan dari segmentasi customer seperti:\n",
    "\n",
    "1.membuat kampanye marketing yang terkustomisasi\n",
    "\n",
    "2.menentukan fitur apa yang bisa dirilis untuk customer tertentu\n",
    "\n",
    "3.membuat prioritas dalam pengembangan produk\n",
    "\n",
    "4.menentukan harga produk sesuai dengan segmen customer dan lainnya"
   ]
  },
  {
   "cell_type": "code",
   "execution_count": 2,
   "id": "83bde1af",
   "metadata": {},
   "outputs": [],
   "source": [
    "from pprint import pprint\n",
    "from time import time\n",
    "\n",
    "import matplotlib.pyplot as plt\n",
    "import numpy as np\n",
    "import pandas as pd\n",
    "import seaborn as sns\n",
    "\n",
    "from sklearn.cluster import KMeans, MiniBatchKMeans\n",
    "from sklearn.metrics import silhouette_score\n",
    "from sklearn.preprocessing import StandardScaler, OneHotEncoder"
   ]
  },
  {
   "cell_type": "code",
   "execution_count": 3,
   "id": "b62c2988",
   "metadata": {},
   "outputs": [
    {
     "ename": "FileNotFoundError",
     "evalue": "[Errno 2] No such file or directory: 'transactions.csv'",
     "output_type": "error",
     "traceback": [
      "\u001b[0;31m---------------------------------------------------------------------------\u001b[0m",
      "\u001b[0;31mFileNotFoundError\u001b[0m                         Traceback (most recent call last)",
      "\u001b[0;32m<ipython-input-3-3d4828399090>\u001b[0m in \u001b[0;36m<module>\u001b[0;34m\u001b[0m\n\u001b[0;32m----> 1\u001b[0;31m \u001b[0mdf_transactions\u001b[0m \u001b[0;34m=\u001b[0m \u001b[0mpd\u001b[0m\u001b[0;34m.\u001b[0m\u001b[0mread_csv\u001b[0m \u001b[0;34m(\u001b[0m\u001b[0;34m\"transactions.csv\"\u001b[0m\u001b[0;34m)\u001b[0m\u001b[0;34m\u001b[0m\u001b[0;34m\u001b[0m\u001b[0m\n\u001b[0m\u001b[1;32m      2\u001b[0m \u001b[0mdf_articles\u001b[0m     \u001b[0;34m=\u001b[0m \u001b[0mpd\u001b[0m\u001b[0;34m.\u001b[0m\u001b[0mread_csv\u001b[0m \u001b[0;34m(\u001b[0m\u001b[0;34m\"articles.csv\"\u001b[0m\u001b[0;34m)\u001b[0m\u001b[0;34m\u001b[0m\u001b[0;34m\u001b[0m\u001b[0m\n\u001b[1;32m      3\u001b[0m \u001b[0mdf_customers\u001b[0m    \u001b[0;34m=\u001b[0m \u001b[0mpd\u001b[0m\u001b[0;34m.\u001b[0m\u001b[0mread_csv\u001b[0m \u001b[0;34m(\u001b[0m\u001b[0;34m\"customers.csv\"\u001b[0m\u001b[0;34m)\u001b[0m\u001b[0;34m\u001b[0m\u001b[0;34m\u001b[0m\u001b[0m\n",
      "\u001b[0;32m/opt/anaconda3/lib/python3.8/site-packages/pandas/io/parsers.py\u001b[0m in \u001b[0;36mread_csv\u001b[0;34m(filepath_or_buffer, sep, delimiter, header, names, index_col, usecols, squeeze, prefix, mangle_dupe_cols, dtype, engine, converters, true_values, false_values, skipinitialspace, skiprows, skipfooter, nrows, na_values, keep_default_na, na_filter, verbose, skip_blank_lines, parse_dates, infer_datetime_format, keep_date_col, date_parser, dayfirst, cache_dates, iterator, chunksize, compression, thousands, decimal, lineterminator, quotechar, quoting, doublequote, escapechar, comment, encoding, dialect, error_bad_lines, warn_bad_lines, delim_whitespace, low_memory, memory_map, float_precision, storage_options)\u001b[0m\n\u001b[1;32m    608\u001b[0m     \u001b[0mkwds\u001b[0m\u001b[0;34m.\u001b[0m\u001b[0mupdate\u001b[0m\u001b[0;34m(\u001b[0m\u001b[0mkwds_defaults\u001b[0m\u001b[0;34m)\u001b[0m\u001b[0;34m\u001b[0m\u001b[0;34m\u001b[0m\u001b[0m\n\u001b[1;32m    609\u001b[0m \u001b[0;34m\u001b[0m\u001b[0m\n\u001b[0;32m--> 610\u001b[0;31m     \u001b[0;32mreturn\u001b[0m \u001b[0m_read\u001b[0m\u001b[0;34m(\u001b[0m\u001b[0mfilepath_or_buffer\u001b[0m\u001b[0;34m,\u001b[0m \u001b[0mkwds\u001b[0m\u001b[0;34m)\u001b[0m\u001b[0;34m\u001b[0m\u001b[0;34m\u001b[0m\u001b[0m\n\u001b[0m\u001b[1;32m    611\u001b[0m \u001b[0;34m\u001b[0m\u001b[0m\n\u001b[1;32m    612\u001b[0m \u001b[0;34m\u001b[0m\u001b[0m\n",
      "\u001b[0;32m/opt/anaconda3/lib/python3.8/site-packages/pandas/io/parsers.py\u001b[0m in \u001b[0;36m_read\u001b[0;34m(filepath_or_buffer, kwds)\u001b[0m\n\u001b[1;32m    460\u001b[0m \u001b[0;34m\u001b[0m\u001b[0m\n\u001b[1;32m    461\u001b[0m     \u001b[0;31m# Create the parser.\u001b[0m\u001b[0;34m\u001b[0m\u001b[0;34m\u001b[0m\u001b[0;34m\u001b[0m\u001b[0m\n\u001b[0;32m--> 462\u001b[0;31m     \u001b[0mparser\u001b[0m \u001b[0;34m=\u001b[0m \u001b[0mTextFileReader\u001b[0m\u001b[0;34m(\u001b[0m\u001b[0mfilepath_or_buffer\u001b[0m\u001b[0;34m,\u001b[0m \u001b[0;34m**\u001b[0m\u001b[0mkwds\u001b[0m\u001b[0;34m)\u001b[0m\u001b[0;34m\u001b[0m\u001b[0;34m\u001b[0m\u001b[0m\n\u001b[0m\u001b[1;32m    463\u001b[0m \u001b[0;34m\u001b[0m\u001b[0m\n\u001b[1;32m    464\u001b[0m     \u001b[0;32mif\u001b[0m \u001b[0mchunksize\u001b[0m \u001b[0;32mor\u001b[0m \u001b[0miterator\u001b[0m\u001b[0;34m:\u001b[0m\u001b[0;34m\u001b[0m\u001b[0;34m\u001b[0m\u001b[0m\n",
      "\u001b[0;32m/opt/anaconda3/lib/python3.8/site-packages/pandas/io/parsers.py\u001b[0m in \u001b[0;36m__init__\u001b[0;34m(self, f, engine, **kwds)\u001b[0m\n\u001b[1;32m    817\u001b[0m             \u001b[0mself\u001b[0m\u001b[0;34m.\u001b[0m\u001b[0moptions\u001b[0m\u001b[0;34m[\u001b[0m\u001b[0;34m\"has_index_names\"\u001b[0m\u001b[0;34m]\u001b[0m \u001b[0;34m=\u001b[0m \u001b[0mkwds\u001b[0m\u001b[0;34m[\u001b[0m\u001b[0;34m\"has_index_names\"\u001b[0m\u001b[0;34m]\u001b[0m\u001b[0;34m\u001b[0m\u001b[0;34m\u001b[0m\u001b[0m\n\u001b[1;32m    818\u001b[0m \u001b[0;34m\u001b[0m\u001b[0m\n\u001b[0;32m--> 819\u001b[0;31m         \u001b[0mself\u001b[0m\u001b[0;34m.\u001b[0m\u001b[0m_engine\u001b[0m \u001b[0;34m=\u001b[0m \u001b[0mself\u001b[0m\u001b[0;34m.\u001b[0m\u001b[0m_make_engine\u001b[0m\u001b[0;34m(\u001b[0m\u001b[0mself\u001b[0m\u001b[0;34m.\u001b[0m\u001b[0mengine\u001b[0m\u001b[0;34m)\u001b[0m\u001b[0;34m\u001b[0m\u001b[0;34m\u001b[0m\u001b[0m\n\u001b[0m\u001b[1;32m    820\u001b[0m \u001b[0;34m\u001b[0m\u001b[0m\n\u001b[1;32m    821\u001b[0m     \u001b[0;32mdef\u001b[0m \u001b[0mclose\u001b[0m\u001b[0;34m(\u001b[0m\u001b[0mself\u001b[0m\u001b[0;34m)\u001b[0m\u001b[0;34m:\u001b[0m\u001b[0;34m\u001b[0m\u001b[0;34m\u001b[0m\u001b[0m\n",
      "\u001b[0;32m/opt/anaconda3/lib/python3.8/site-packages/pandas/io/parsers.py\u001b[0m in \u001b[0;36m_make_engine\u001b[0;34m(self, engine)\u001b[0m\n\u001b[1;32m   1048\u001b[0m             )\n\u001b[1;32m   1049\u001b[0m         \u001b[0;31m# error: Too many arguments for \"ParserBase\"\u001b[0m\u001b[0;34m\u001b[0m\u001b[0;34m\u001b[0m\u001b[0;34m\u001b[0m\u001b[0m\n\u001b[0;32m-> 1050\u001b[0;31m         \u001b[0;32mreturn\u001b[0m \u001b[0mmapping\u001b[0m\u001b[0;34m[\u001b[0m\u001b[0mengine\u001b[0m\u001b[0;34m]\u001b[0m\u001b[0;34m(\u001b[0m\u001b[0mself\u001b[0m\u001b[0;34m.\u001b[0m\u001b[0mf\u001b[0m\u001b[0;34m,\u001b[0m \u001b[0;34m**\u001b[0m\u001b[0mself\u001b[0m\u001b[0;34m.\u001b[0m\u001b[0moptions\u001b[0m\u001b[0;34m)\u001b[0m  \u001b[0;31m# type: ignore[call-arg]\u001b[0m\u001b[0;34m\u001b[0m\u001b[0;34m\u001b[0m\u001b[0m\n\u001b[0m\u001b[1;32m   1051\u001b[0m \u001b[0;34m\u001b[0m\u001b[0m\n\u001b[1;32m   1052\u001b[0m     \u001b[0;32mdef\u001b[0m \u001b[0m_failover_to_python\u001b[0m\u001b[0;34m(\u001b[0m\u001b[0mself\u001b[0m\u001b[0;34m)\u001b[0m\u001b[0;34m:\u001b[0m\u001b[0;34m\u001b[0m\u001b[0;34m\u001b[0m\u001b[0m\n",
      "\u001b[0;32m/opt/anaconda3/lib/python3.8/site-packages/pandas/io/parsers.py\u001b[0m in \u001b[0;36m__init__\u001b[0;34m(self, src, **kwds)\u001b[0m\n\u001b[1;32m   1865\u001b[0m \u001b[0;34m\u001b[0m\u001b[0m\n\u001b[1;32m   1866\u001b[0m         \u001b[0;31m# open handles\u001b[0m\u001b[0;34m\u001b[0m\u001b[0;34m\u001b[0m\u001b[0;34m\u001b[0m\u001b[0m\n\u001b[0;32m-> 1867\u001b[0;31m         \u001b[0mself\u001b[0m\u001b[0;34m.\u001b[0m\u001b[0m_open_handles\u001b[0m\u001b[0;34m(\u001b[0m\u001b[0msrc\u001b[0m\u001b[0;34m,\u001b[0m \u001b[0mkwds\u001b[0m\u001b[0;34m)\u001b[0m\u001b[0;34m\u001b[0m\u001b[0;34m\u001b[0m\u001b[0m\n\u001b[0m\u001b[1;32m   1868\u001b[0m         \u001b[0;32massert\u001b[0m \u001b[0mself\u001b[0m\u001b[0;34m.\u001b[0m\u001b[0mhandles\u001b[0m \u001b[0;32mis\u001b[0m \u001b[0;32mnot\u001b[0m \u001b[0;32mNone\u001b[0m\u001b[0;34m\u001b[0m\u001b[0;34m\u001b[0m\u001b[0m\n\u001b[1;32m   1869\u001b[0m         \u001b[0;32mfor\u001b[0m \u001b[0mkey\u001b[0m \u001b[0;32min\u001b[0m \u001b[0;34m(\u001b[0m\u001b[0;34m\"storage_options\"\u001b[0m\u001b[0;34m,\u001b[0m \u001b[0;34m\"encoding\"\u001b[0m\u001b[0;34m,\u001b[0m \u001b[0;34m\"memory_map\"\u001b[0m\u001b[0;34m,\u001b[0m \u001b[0;34m\"compression\"\u001b[0m\u001b[0;34m)\u001b[0m\u001b[0;34m:\u001b[0m\u001b[0;34m\u001b[0m\u001b[0;34m\u001b[0m\u001b[0m\n",
      "\u001b[0;32m/opt/anaconda3/lib/python3.8/site-packages/pandas/io/parsers.py\u001b[0m in \u001b[0;36m_open_handles\u001b[0;34m(self, src, kwds)\u001b[0m\n\u001b[1;32m   1360\u001b[0m         \u001b[0mLet\u001b[0m \u001b[0mthe\u001b[0m \u001b[0mreaders\u001b[0m \u001b[0mopen\u001b[0m \u001b[0mIOHanldes\u001b[0m \u001b[0mafter\u001b[0m \u001b[0mthey\u001b[0m \u001b[0mare\u001b[0m \u001b[0mdone\u001b[0m \u001b[0;32mwith\u001b[0m \u001b[0mtheir\u001b[0m \u001b[0mpotential\u001b[0m \u001b[0mraises\u001b[0m\u001b[0;34m.\u001b[0m\u001b[0;34m\u001b[0m\u001b[0;34m\u001b[0m\u001b[0m\n\u001b[1;32m   1361\u001b[0m         \"\"\"\n\u001b[0;32m-> 1362\u001b[0;31m         self.handles = get_handle(\n\u001b[0m\u001b[1;32m   1363\u001b[0m             \u001b[0msrc\u001b[0m\u001b[0;34m,\u001b[0m\u001b[0;34m\u001b[0m\u001b[0;34m\u001b[0m\u001b[0m\n\u001b[1;32m   1364\u001b[0m             \u001b[0;34m\"r\"\u001b[0m\u001b[0;34m,\u001b[0m\u001b[0;34m\u001b[0m\u001b[0;34m\u001b[0m\u001b[0m\n",
      "\u001b[0;32m/opt/anaconda3/lib/python3.8/site-packages/pandas/io/common.py\u001b[0m in \u001b[0;36mget_handle\u001b[0;34m(path_or_buf, mode, encoding, compression, memory_map, is_text, errors, storage_options)\u001b[0m\n\u001b[1;32m    640\u001b[0m                 \u001b[0merrors\u001b[0m \u001b[0;34m=\u001b[0m \u001b[0;34m\"replace\"\u001b[0m\u001b[0;34m\u001b[0m\u001b[0;34m\u001b[0m\u001b[0m\n\u001b[1;32m    641\u001b[0m             \u001b[0;31m# Encoding\u001b[0m\u001b[0;34m\u001b[0m\u001b[0;34m\u001b[0m\u001b[0;34m\u001b[0m\u001b[0m\n\u001b[0;32m--> 642\u001b[0;31m             handle = open(\n\u001b[0m\u001b[1;32m    643\u001b[0m                 \u001b[0mhandle\u001b[0m\u001b[0;34m,\u001b[0m\u001b[0;34m\u001b[0m\u001b[0;34m\u001b[0m\u001b[0m\n\u001b[1;32m    644\u001b[0m                 \u001b[0mioargs\u001b[0m\u001b[0;34m.\u001b[0m\u001b[0mmode\u001b[0m\u001b[0;34m,\u001b[0m\u001b[0;34m\u001b[0m\u001b[0;34m\u001b[0m\u001b[0m\n",
      "\u001b[0;31mFileNotFoundError\u001b[0m: [Errno 2] No such file or directory: 'transactions.csv'"
     ]
    }
   ],
   "source": [
    "df_transactions = pd.read_csv (\"transactions.csv\")\n",
    "df_articles     = pd.read_csv (\"articles.csv\")\n",
    "df_customers    = pd.read_csv (\"customers.csv\")"
   ]
  },
  {
   "cell_type": "code",
   "execution_count": null,
   "id": "994124b2",
   "metadata": {},
   "outputs": [],
   "source": [
    "print(\"num of articles:\", df_articles.shape[0])\n",
    "print(\"num of customers:\", df_customers.shape[0])\n",
    "print(\"num of transactions:\", df_transactions.shape[0])"
   ]
  },
  {
   "cell_type": "markdown",
   "id": "74c2f884",
   "metadata": {},
   "source": [
    "### Data Articles"
   ]
  },
  {
   "cell_type": "code",
   "execution_count": null,
   "id": "17c5fe71",
   "metadata": {},
   "outputs": [],
   "source": [
    "with pd.option_context(\"display.max_columns\", None):\n",
    "    display(df_articles.head())"
   ]
  },
  {
   "cell_type": "code",
   "execution_count": null,
   "id": "2bc4d73d",
   "metadata": {},
   "outputs": [],
   "source": [
    "# Pilih indeks pertama pada df_article dan dari sini kita dapat mengetahui kira-kira apa isi data dari tiap kolom\n",
    "df_articles.loc[0]"
   ]
  },
  {
   "cell_type": "markdown",
   "id": "39a51213",
   "metadata": {},
   "source": [
    "Terdapat 25 fitur yang merepresentasikan informasi tentang artikel tersebut, yaitu nama produk, warna produk, deskripsi produk, dan sebagainya.\n",
    "Sayangnya, tidak ada data dictionary yang tersedia, sehingga kita sedikit kesulitan mengartikan masing-masing fitur."
   ]
  },
  {
   "cell_type": "code",
   "execution_count": null,
   "id": "cb64a5fb",
   "metadata": {},
   "outputs": [],
   "source": [
    "df_articles.info()\n",
    "\n",
    "#Hampir semua fitur tidak memiliki missing values. \n",
    "#Hanya fitur detail_desc yang memiliki beberapa missing values (105126 dari 105542)"
   ]
  },
  {
   "cell_type": "markdown",
   "id": "ff7f249e",
   "metadata": {},
   "source": [
    "### Data Customers\n",
    "\n",
    "Berisi informasi-informasi tentang customer"
   ]
  },
  {
   "cell_type": "code",
   "execution_count": null,
   "id": "3ae8da6c",
   "metadata": {},
   "outputs": [],
   "source": [
    "df_customers"
   ]
  },
  {
   "cell_type": "code",
   "execution_count": null,
   "id": "e8eacf24",
   "metadata": {},
   "outputs": [],
   "source": [
    "df_customers.info()"
   ]
  },
  {
   "cell_type": "markdown",
   "id": "0cb36761",
   "metadata": {},
   "source": [
    "Dari informasi di atas, terlihat bahwa hampir semua fitur yang ada pada df_customers memiliki missing values. \n",
    "\n",
    "Fitur yang paling banyak memiliki missing values adalah Active, sedangkan fitur yang tidak memiliki missing values adalah customer_id dan postal_code. \n",
    "\n",
    "Sama seperti data artikel, dikarenakan tidak ada data dictionary yang tersedia, sehingga kita akan sedikit kesulitan mengartikan masing-masing fitur dan untuk mengetahui representasi masing-masing fitur, kita perlu melihat nilai-nilai yang ada di masing-masing fitur tersebut"
   ]
  },
  {
   "cell_type": "markdown",
   "id": "d93a4833",
   "metadata": {},
   "source": [
    "### Data Transactions"
   ]
  },
  {
   "cell_type": "code",
   "execution_count": null,
   "id": "d8469afa",
   "metadata": {},
   "outputs": [],
   "source": [
    "with pd.option_context(\"display.max_columns\", None):\n",
    "    display(df_transactions.head())"
   ]
  },
  {
   "cell_type": "code",
   "execution_count": null,
   "id": "c1dc18eb",
   "metadata": {},
   "outputs": [],
   "source": [
    "df_transactions.info()"
   ]
  },
  {
   "cell_type": "markdown",
   "id": "85c2394d",
   "metadata": {},
   "source": [
    "Pada data transaksi, terdapat 5 fitur yang merepresentasikan sebuah transaksi, seperti tanggal transaksi, nomor customer, dan nomor artikel, harga artikel, dan channel penjualan.\n",
    "\n",
    "Karena jumlah baris yang sangat banyak (~31 juta baris), fungsi info tidak bisa menampilkan jumlah non-missing values sehingga lebih baik menggunakan kode isna().sum() untuk setiap fitur pada data transaksi, tidak terdapat missing values sama sekali"
   ]
  },
  {
   "cell_type": "markdown",
   "id": "8f8efe5d",
   "metadata": {},
   "source": [
    "## Exploratory Data Analysis\n",
    "\n",
    "1.Terdapat 3 dataset yang saling melengkapi satu sama lain, kita akan melakukan eksplorasi untuk ketiga dataset tersebut.\n",
    "\n",
    "2.Khusus untuk eksplorasi pada data transaksi, kita akan gabungkan terlebih dahulu data customer dan artikel dengan data transaksi, sehingga setiap baris pada data transaksi akan terdiri dari gabungan fitur-fitur dari data customer, artikel, dan transaksi\n",
    "\n",
    "Langkah-langkah yang akan kita lakukan untuk EDA adalah sebagai berikut:\n",
    "\n",
    "-Eksplor data artikel, seperti jumlah (unik) artikel yang tersedia, jenis warna yang tersedia pada suatu produk, jenis garmen, dan lainnya.\n",
    "\n",
    "-Eksplor data customer, seperti rentang umur customer, jumlah customer yang mendapatkan newsletter, status keanggotaan, dan lainnya.\n",
    "\n",
    "-Eksplor data transaksi yang mencakup jumlah pembelian harian / bulanan / tahunan, produk terpopuler, CLV, dan lainnya."
   ]
  },
  {
   "cell_type": "markdown",
   "id": "97eed486",
   "metadata": {},
   "source": [
    "### EDA Data Articles"
   ]
  },
  {
   "cell_type": "code",
   "execution_count": null,
   "id": "73141dbe",
   "metadata": {},
   "outputs": [],
   "source": [
    " df_articles.dtypes"
   ]
  },
  {
   "cell_type": "markdown",
   "id": "6aac8064",
   "metadata": {},
   "source": [
    "Fitur article_id, product_code, product_type_no, dan sejenisnya bertipe data integer. Fitur tersebut seharusnya bertipe data kategorik karena tidak mencerminkan deret angka sehingga ubah tipe data fitur tersebut menjadi object."
   ]
  },
  {
   "cell_type": "code",
   "execution_count": null,
   "id": "202c5461",
   "metadata": {},
   "outputs": [],
   "source": [
    "# Instruksi looping untuk mengubah tipe data \n",
    "# Pada kolom yang berakhiran dengan 'id','no', dan 'code' menggunakan function astype()\n",
    "\n",
    "for feature in df_articles.columns:\n",
    "    if (\n",
    "        feature.endswith(\"id\")\n",
    "        or feature.endswith(\"no\")\n",
    "        or feature.endswith(\"code\")\n",
    "    ):\n",
    "        df_articles[feature] = df_articles[feature].astype(\"object\")"
   ]
  },
  {
   "cell_type": "code",
   "execution_count": null,
   "id": "62b665d1",
   "metadata": {},
   "outputs": [],
   "source": [
    "df_articles.info()"
   ]
  },
  {
   "cell_type": "code",
   "execution_count": null,
   "id": "a655bc9b",
   "metadata": {},
   "outputs": [],
   "source": [
    "# Melihat unique values\n",
    "\n",
    "for feature in df_articles.columns:\n",
    "    print(\n",
    "        f\"- num of unique values in `{feature}`:\",\n",
    "        df_articles[feature].nunique()\n",
    "    )"
   ]
  },
  {
   "cell_type": "markdown",
   "id": "33400bf9",
   "metadata": {},
   "source": [
    "1. Terdapat perbedaan jumlah nilai unik antara beberapa pasangan kode dan nama, seperti product_code dengan prod_name, product_type_no dengan product_type_name, department_no dengan department_name, dan lainnya. Sehingga kita mungkin perlu melihat two-way table antara kedua fitur tersebut\n",
    "2. karena index_group_name adalah fitur dengan jumlah nilai unik paling sedikit, yang mungkin berarti ada 5 grup besar yang membagi produk H&M"
   ]
  },
  {
   "cell_type": "code",
   "execution_count": null,
   "id": "3943ff35",
   "metadata": {},
   "outputs": [],
   "source": [
    "def plot_count(data, x=None, y=None, palette=None, figsize=(12, 6), **kwargs):\n",
    "    column_order = data[x or y].value_counts().index\n",
    "\n",
    "    plt.figure(figsize=figsize)\n",
    "    sns.countplot(\n",
    "        x=x, y=y, data=data, order=column_order,\n",
    "        palette=palette, **kwargs\n",
    "    )\n",
    "    plt.grid(False)\n",
    "\n",
    "\n",
    "MAIN_COLOR = [\"#29B5BF\"]    # warna utama untuk visualisasi\n",
    "OTHER_COLOR = [\"#777777\"]    # warna lainnya untuk visualisasi"
   ]
  },
  {
   "cell_type": "code",
   "execution_count": null,
   "id": "f98153b9",
   "metadata": {},
   "outputs": [],
   "source": [
    "plot_count(x=\"index_group_name\", data=df_articles)"
   ]
  },
  {
   "cell_type": "markdown",
   "id": "dbfc73a1",
   "metadata": {},
   "source": [
    " Insight :\n",
    " \n",
    " 1. Ladieswear atau pakaian untuk perempuan menjadi kelompok grup yang paling banyak disediakan oleh H&M\n",
    " 2. sebaliknya, ketersediaan pakaian olahraga atau 'sport' oleh H&M paling sedikit dibandingkan dengan yang kelompok pakaian lainnya\n",
    " 3. Selanjutnya, kita lihat dari nama fitur yang mirip, yaitu index_group_name dengan index_name, sekarang kita akan coba bandingkan."
   ]
  },
  {
   "cell_type": "code",
   "execution_count": null,
   "id": "48d800f4",
   "metadata": {},
   "outputs": [],
   "source": [
    "plot_count(x=\"index_group_name\", hue=\"index_name\",data=df_articles, figsize=(15, 6))\n",
    "plt.legend(loc=\"upper right\")\n",
    "plt.show()"
   ]
  },
  {
   "cell_type": "markdown",
   "id": "8a9f2ff3",
   "metadata": {},
   "source": [
    "Insight :\n",
    "1. hanya kelompok Ladieswear dan Baby/Children yang memiliki sub-kelompok indeks\n",
    "2. sub-kelompok dari Ladieswear terdiri dari:\n",
    "    - Ladieswear\n",
    "    - Lingeries/Tights\n",
    "    - Ladies/Accessories\n",
    "3. sub-kelompok dari Baby/Children terdiri dari:\n",
    "    - Baby Sizes 50-98\n",
    "    - Children Sizes 92-140\n",
    "    - Children Sizes 134-170\n",
    "    -Children Accessories, Swimwear\n",
    "\n",
    "Kemudian, saat pelanggan memilih sebuah produk fashion, salah satu faktor yang menjadi pertimbangan adalah warna. Mari kita coba lihat warna apa saja yang disediakan oleh H&M."
   ]
  },
  {
   "cell_type": "code",
   "execution_count": null,
   "id": "ea329c29",
   "metadata": {},
   "outputs": [],
   "source": [
    "plot_count(y=\"perceived_colour_master_name\", data=df_articles, figsize=(12, 8))\n",
    "plt.xticks(rotation=90)\n",
    "plt.show()"
   ]
  },
  {
   "cell_type": "markdown",
   "id": "3f8f7461",
   "metadata": {},
   "source": [
    "Insight :\n",
    "\n",
    "1. Terlihat dari visualisasi di atas dapat diketahui 5 warna yang teratas adalah:\n",
    "    - Black\n",
    "    - Blue\n",
    "    - White\n",
    "    - Pink\n",
    "    - Grey\n",
    "2. Terdapat warna unknown dan undefined, maka warna ini perlu kita tinjau lebih jauh lagi tentang produk yang memiliki warna tersebut, apakah produk tsb sebuah pakaian ataukah aksesoris\n",
    "3. Perihal warna, kita mungkin sadar bahwa pakaian pria dan pakaian wanita mungkin memiliki jenis warna yang berbeda jenisnya. Sehingga, menarik untuk kita lihat bagaimana H&M memilih warna-warna untuk kelompok produk Ladieswear dan Menswear."
   ]
  },
  {
   "cell_type": "code",
   "execution_count": null,
   "id": "c349fa8a",
   "metadata": {},
   "outputs": [],
   "source": [
    "df_ladies_mens = df_articles[df_articles.index_group_name.isin([\"Ladieswear\", \"Menswear\"])\n",
    "]\n",
    "plot_count(\n",
    "    hue=\"perceived_colour_master_name\",\n",
    "    x=\"index_group_name\",\n",
    "    data=df_ladies_mens,\n",
    "    palette=\"Paired\",\n",
    "    figsize=(15, 8),\n",
    "    hue_order=df_articles.perceived_colour_master_name.value_counts().index\n",
    ")"
   ]
  },
  {
   "cell_type": "markdown",
   "id": "08ea5a70",
   "metadata": {},
   "source": [
    "Insight :\n",
    "1. Untuk Ladieswear dan Menswear warna hitam menjadi warna yang populer \n",
    "2. 5 warna teratas untuk kelompok pakaian Ladieswear adalah:\n",
    "    - Black\n",
    "    - White\n",
    "    - Blue\n",
    "    - Beige\n",
    "    - Pink\n",
    "3. 5 warna teratas untuk kelompok pakaian Menswear adalah:\n",
    "    - Black\n",
    "    - Blue\n",
    "    - Grey\n",
    "    - White\n",
    "    - Red\n",
    "4. Kedua kelompok pakaian tersebut masih memiliki warna unknown dan undefined sehingga selanjutnya, mari kita lihat bagaimana warna unknown dan undefined ini bisa ada di 2 kelompok tersebut.\n"
   ]
  },
  {
   "cell_type": "code",
   "execution_count": null,
   "id": "a0dc0d60",
   "metadata": {},
   "outputs": [],
   "source": [
    "df_ladies_mens.loc[df_ladies_mens.perceived_colour_master_name.isin([\"unknown\", \"undefined\"]),\n",
    "    [\"product_type_name\", \"product_group_name\", \"graphical_appearance_name\",\n",
    "     \"perceived_colour_master_name\", \"index_name\", \"section_name\"]].sample(10)"
   ]
  },
  {
   "cell_type": "code",
   "execution_count": null,
   "id": "62b7a7bf",
   "metadata": {},
   "outputs": [],
   "source": [
    "plot_count(\n",
    "    y=\"product_type_name\",\n",
    "    data=df_ladies_mens[df_ladies_mens.perceived_colour_master_name.isin([\"unknown\", \"undefined\"])],\n",
    "    figsize=(12, 8)\n",
    ")"
   ]
  },
  {
   "cell_type": "markdown",
   "id": "bf722bfe",
   "metadata": {},
   "source": [
    "### EDA Data Customers"
   ]
  },
  {
   "cell_type": "markdown",
   "id": "89d2fb54",
   "metadata": {},
   "source": [
    "Data Customers terdapat banyak nilai missing values , sehingga kita akan coba eksplor missing values tersebut namun karena alasan privasi, kita hanya bisa mengeksplor fitur-fitur seperti FN, Active, club_member_status, fashion_news_frequency, dan age."
   ]
  },
  {
   "cell_type": "markdown",
   "id": "53533d86",
   "metadata": {},
   "source": [
    "### Missing Values"
   ]
  },
  {
   "cell_type": "code",
   "execution_count": null,
   "id": "cfdac562",
   "metadata": {},
   "outputs": [],
   "source": [
    "df_customers.isnull().sum()"
   ]
  },
  {
   "cell_type": "code",
   "execution_count": null,
   "id": "a401391f",
   "metadata": {},
   "outputs": [],
   "source": [
    "df_customers[df_customers.isna().all(axis=1)]"
   ]
  },
  {
   "cell_type": "markdown",
   "id": "8999a01c",
   "metadata": {},
   "source": [
    "Insights:\n",
    "\n",
    "Dari data di atas, terlihat bahwa tidak ada baris yang semua nilai fiturnya kosong."
   ]
  },
  {
   "cell_type": "code",
   "execution_count": null,
   "id": "d1a9cfe2",
   "metadata": {},
   "outputs": [],
   "source": [
    "#Pilih fitur yang memiliki missing values & tampilkan nilai missing values serta hitung jumlahnya dengan unique()\n",
    "\n",
    "for feature in df_customers.columns:\n",
    "    if df_customers[feature].isna().any():\n",
    "        print(f\"num of unique values in {feature}: \",\n",
    "            df_customers[feature].unique())"
   ]
  },
  {
   "cell_type": "markdown",
   "id": "25d74599",
   "metadata": {},
   "source": [
    "Insight :\n",
    "1. Khusus pada fitur FN dan Active, terlihat bahwa hanya ada 1 untuk nilai non-missing value.\n",
    "______________________________________________________________________________________________\n",
    "\n",
    "2. FN merepresentasikan apakah customer mendapatkan fashion newsletter atau tidak\n",
    "3. Active merepresentasikan apakah customer aktif untuk berkomunikasi, kita bisa anggap nilai nan sama dengan 0.\n",
    "4. Kita akan isi nilai nan pada kedua fitur tersebut dengan nilai 0.\n",
    "______________________________________________________________________________________________\n",
    "\n",
    "5. Selanjutnya, kita akan coba lihat missing values yang ada pada fitur club_member_status dan fashion_news_frequency. \n",
    "6. Khusus untuk fashion_news_frequency, terdapat tiga jenis nilai yang mungkin sama, yaitu NONE, None, dan nan. Untuk penyederhanaan, kita akan anggap ketiga nilai tersebut sama, yaitu nan (string). Kemudian, nilai nan tersebut akan diisi berdasarkan hubungan dengan 2 fitur yang lain, club_member_status dan FN.\n"
   ]
  },
  {
   "cell_type": "code",
   "execution_count": null,
   "id": "a511e22e",
   "metadata": {},
   "outputs": [],
   "source": [
    "# Pilih kedua kolom dan isi missing value dengan 0\n",
    "df_customers[[\"FN\", \"Active\"]] = df_customers[[\"FN\", \"Active\"]].fillna(0)"
   ]
  },
  {
   "cell_type": "code",
   "execution_count": null,
   "id": "bd2dabb7",
   "metadata": {},
   "outputs": [],
   "source": [
    "# Cek missing values\n",
    "df_customers[[\"FN\", \"Active\"]].isna().sum()"
   ]
  },
  {
   "cell_type": "code",
   "execution_count": null,
   "id": "eb3cd6d5",
   "metadata": {},
   "outputs": [],
   "source": [
    "#Mengubah NONE, None menjadi nan\n",
    "\n",
    "df_customers[\"fashion_news_frequency\"] = (\n",
    "    df_customers[\"fashion_news_frequency\"].replace({\"NONE\": np.nan, \"None\": np.nan})\n",
    ")"
   ]
  },
  {
   "cell_type": "code",
   "execution_count": null,
   "id": "267ef2b4",
   "metadata": {},
   "outputs": [],
   "source": [
    "customer_news_nan = df_customers.loc[df_customers[\"fashion_news_frequency\"].isna(),\n",
    "                                     [\"FN\", \"club_member_status\", \"fashion_news_frequency\"]].fillna(\"nan\")\n",
    "\n",
    "fig, axis = plt.subplots(1, 2, figsize=(15, 6))\n",
    "for ax, x in zip(axis, [\"FN\", \"club_member_status\"]):\n",
    "    sns.countplot(x=x, data=customer_news_nan, ax=ax)"
   ]
  },
  {
   "cell_type": "code",
   "execution_count": null,
   "id": "15117db0",
   "metadata": {},
   "outputs": [],
   "source": [
    "customer_news_nan.value_counts()"
   ]
  },
  {
   "cell_type": "markdown",
   "id": "3bbb8461",
   "metadata": {},
   "source": [
    "Insights:\n",
    "\n",
    "* Dari visualisasi dan informasi di atas, bisa disimpulkan bahwa:\n",
    "    - Semua customer dengan nilai nan pada fashion_news_frequency dan nilai FN=0, akan diisi dengan Never, dengan asumsi customer yang tidak mengikuti newsletter tidak akan pernah mendapatkan berita fashion dari H&M.\n",
    "    - Semua customer dengan dengan nilai nan pada fashion_news_frequency, club_member_status yang bernilai nan atau ACTIVE, dan nilai FN=1 akan diisi dengan nilai Other.\n",
    "    - Semua customer dengan club_member_status=PRE_CREATE dengan kondisi nilai FN=1diasumsikan bahwa customer tersebut masih dalam proses pembuatan akun / member, sehingga perlu jenis nilai yang berbeda. Oleh karena itu, kita akan isi nilai nan pada fashion_news_frequency dengan nilai Not Yet."
   ]
  },
  {
   "cell_type": "code",
   "execution_count": null,
   "id": "1fdd8fad",
   "metadata": {},
   "outputs": [],
   "source": [
    "def fill_fn_freq_nan(row):\n",
    "    if row.fashion_news_frequency is not np.nan:\n",
    "        return row.fashion_news_frequency\n",
    "\n",
    "    if row.FN == 0:\n",
    "        return \"Never\"\n",
    "\n",
    "    if (row.FN == 1) & (row.club_member_status == \"ACTIVE\"):\n",
    "        return \"Other\"\n",
    "    if (row.FN == 1) & (row.club_member_status is np.nan):\n",
    "        return \"Other\"\n",
    "\n",
    "    if (row.FN == 1) & (row.club_member_status == \"PRE-CREATE\"):\n",
    "        return \"Not Yet\""
   ]
  },
  {
   "cell_type": "code",
   "execution_count": null,
   "id": "d16d9965",
   "metadata": {},
   "outputs": [],
   "source": [
    "# Terapkan function tersebut pada kolom \"fashion_news_frequency\"\n",
    "df_customers[\"fashion_news_frequency\"] = df_customers.apply(fill_fn_freq_nan, axis=1)"
   ]
  },
  {
   "cell_type": "code",
   "execution_count": null,
   "id": "1a5f0eb3",
   "metadata": {},
   "outputs": [],
   "source": [
    "print(df_customers[[\"FN\", \"club_member_status\", \"fashion_news_frequency\"]].value_counts())\n",
    "print('------')\n",
    "df_customers.info()"
   ]
  },
  {
   "cell_type": "markdown",
   "id": "71d0c34d",
   "metadata": {},
   "source": [
    "Berdasarkan info Non-Null di atas, fitur selanjutnya yang perlu dilihat missing values yaitu pada fitur club_member_status."
   ]
  },
  {
   "cell_type": "code",
   "execution_count": null,
   "id": "1e458415",
   "metadata": {},
   "outputs": [],
   "source": [
    "# Buat function berdasarkan kondisi di atas\n",
    "def fill_member_status_nan(row):\n",
    "    if row.club_member_status is not np.nan:\n",
    "        return row.club_member_status\n",
    "\n",
    "    if row.Active == 0:\n",
    "        return \"NON-ACTIVE\"\n",
    "    return \"UNKNOWN\""
   ]
  },
  {
   "cell_type": "code",
   "execution_count": null,
   "id": "fe6c3c83",
   "metadata": {},
   "outputs": [],
   "source": [
    "# Terapkan function apply() pada kolom club_member_status\n",
    "df_customers[\"club_member_status\"] = df_customers.apply(fill_member_status_nan, axis=1)"
   ]
  },
  {
   "cell_type": "code",
   "execution_count": null,
   "id": "1580925f",
   "metadata": {},
   "outputs": [],
   "source": [
    "print(df_customers[[\"Active\", \"club_member_status\"]].value_counts())\n",
    "df_customers.info()"
   ]
  },
  {
   "cell_type": "markdown",
   "id": "adae24de",
   "metadata": {},
   "source": [
    "Selanjutnya, fitur yang masih memiliki missing values yaitu fitur age.\n",
    "untuk penyederhanaan, kita akan isi dengan nilai median fitur tersebut."
   ]
  },
  {
   "cell_type": "code",
   "execution_count": null,
   "id": "2ee80330",
   "metadata": {},
   "outputs": [],
   "source": [
    "df_customers[\"age\"] = df_customers.age.fillna(df_customers.age.median())"
   ]
  },
  {
   "cell_type": "code",
   "execution_count": null,
   "id": "92148038",
   "metadata": {},
   "outputs": [],
   "source": [
    "df_customers.info()"
   ]
  },
  {
   "cell_type": "markdown",
   "id": "5c59e30e",
   "metadata": {},
   "source": [
    "### Data Visualization"
   ]
  },
  {
   "cell_type": "code",
   "execution_count": null,
   "id": "f84807ef",
   "metadata": {},
   "outputs": [],
   "source": [
    "plot_count(x=\"FN\", data=df_customers)\n",
    "plt.xticks([0, 1], [\"Not Subscribed\", \"Subscribed\"])\n",
    "plt.show()"
   ]
  },
  {
   "cell_type": "code",
   "execution_count": null,
   "id": "2b7faf77",
   "metadata": {},
   "outputs": [],
   "source": [
    "plot_count(x=\"Active\", data=df_customers)\n",
    "plt.xticks([0, 1], [\"Not Active\", \"Active\"])\n",
    "plt.show()"
   ]
  },
  {
   "cell_type": "code",
   "execution_count": null,
   "id": "297204c2",
   "metadata": {},
   "outputs": [],
   "source": [
    "plot_count(x=\"club_member_status\", data=df_customers)\n",
    "plt.show()"
   ]
  },
  {
   "cell_type": "code",
   "execution_count": null,
   "id": "8009b677",
   "metadata": {},
   "outputs": [],
   "source": [
    "plot_count(x=\"fashion_news_frequency\", data=df_customers)\n",
    "plt.show()"
   ]
  },
  {
   "cell_type": "code",
   "execution_count": null,
   "id": "937f125d",
   "metadata": {},
   "outputs": [],
   "source": [
    "plt.figure(figsize=(12, 6))\n",
    "sns.boxplot(x=\"age\", data=df_customers)\n",
    "plt.show()"
   ]
  },
  {
   "cell_type": "markdown",
   "id": "d3bde052",
   "metadata": {},
   "source": [
    "Dari visualisasi boxplot di atas, terlihat bahwa terdapat pencilan di mana umur customer lebih dari 80 tahun. Ini mungkin sangat menarik untuk ditinjau lebih jauh lagi bagaimana transaksi yang mereka lakukan yang tercermin dalam data transaksi.\n",
    "Kita bisa eksplor lebih jauh lagi, seperti membuat visualisasi yang mengombinasikan beberapa fitur kategorik pada data customer."
   ]
  },
  {
   "cell_type": "markdown",
   "id": "4dc583a4",
   "metadata": {},
   "source": [
    "## EDA DATA TRANSACTIONS\n",
    "\n",
    "Jika kita perhatikan sekali lagi informasi data transaksi di bawah terdapat lebih dari 31 juta baris transaksi dan untuk mengolah data sebesar itu, kita memerlukan resource yang lebih besar juga, seperti RAM, CPU, GPU, dan mungkin library yang lebih mutakhir. Oleh karena itu, pada meeting ini kita hanya akan menggunakan data transaksi di tahun 2020\n",
    "\n",
    "* Kita akan lakukan join antara data artikel dan customer dengan data transkasi. Kita bisa menggunakan merge atau join dari Pandas.\n",
    "* Tapi, sebelum itu, kita akan coba mengubah beberapa tipe data di data transaksi yang mungkin kurang tepat."
   ]
  },
  {
   "cell_type": "code",
   "execution_count": null,
   "id": "8026f0eb",
   "metadata": {},
   "outputs": [],
   "source": [
    "df_transactions[\"t_dat\"] = df_transactions.t_dat.astype(\"datetime64\")\n",
    "df_transactions[\"article_id\"] = df_transactions.article_id.astype(\"object\")\n",
    "df_transactions.info()"
   ]
  },
  {
   "cell_type": "markdown",
   "id": "9fa4ce20",
   "metadata": {},
   "source": [
    "1. Untuk melakukan join, data transaksi akan bertindak sebagai right table dan data artikel dan customer akan bertindak sebagai left table.\n",
    "2. Selain itu, karena kita tidak ingin kehilangan data transaksi meskipun (mungkin) tidak memiliki pasangan di data artikel ataupun customer, kita akan menggunakan prinsip right join.\n",
    "3. Karena alasan keterbatasan RAM Google Colab, kita akan menggunakan sebagian data transaksi saja, yaitu data transaksi dari bulan Juni 2020 sampai transaksi terakhir"
   ]
  },
  {
   "cell_type": "code",
   "execution_count": null,
   "id": "a816dd5d",
   "metadata": {},
   "outputs": [],
   "source": [
    "# Filter data transaksi hanya untuk juni 2020 karena datanya terlalu besar\n",
    "df_transactions = df_transactions[df_transactions.t_dat >= \"2020-06\"].reset_index(drop=True)\n",
    "df_transactions.info() "
   ]
  },
  {
   "cell_type": "code",
   "execution_count": null,
   "id": "723000a0",
   "metadata": {},
   "outputs": [],
   "source": [
    "# Lakukan merge() pada artikel dengan transaksi\n",
    "df_article_transactions = df_articles.merge(df_transactions, how=\"right\", on=\"article_id\")\n",
    "\n",
    "# Lakukan merge() pada gabungan artikel transaksi dengan data customer\n",
    "df_all = df_customers.merge(df_article_transactions, how=\"right\", on=\"customer_id\")"
   ]
  },
  {
   "cell_type": "code",
   "execution_count": null,
   "id": "4975d74b",
   "metadata": {},
   "outputs": [],
   "source": [
    "df_all.info()"
   ]
  },
  {
   "cell_type": "code",
   "execution_count": null,
   "id": "51fcfddb",
   "metadata": {},
   "outputs": [],
   "source": [
    "df_all.isna().sum()"
   ]
  },
  {
   "cell_type": "code",
   "execution_count": null,
   "id": "8c1a44ff",
   "metadata": {},
   "outputs": [],
   "source": [
    "# Tampilkan dari gabungan ke-3 data (artikel, customer, dan transaksi)\n",
    "df_all.head()"
   ]
  },
  {
   "cell_type": "code",
   "execution_count": null,
   "id": "027be916",
   "metadata": {},
   "outputs": [],
   "source": [
    "#Melihat unique values\n",
    "\n",
    "num_customers = df_all.customer_id.nunique()\n",
    "num_articles = df_all.article_id.nunique()\n",
    "\n",
    "print(\"Number of unique customers:\", num_customers)\n",
    "print(\"Number of sold items:\", num_articles)"
   ]
  },
  {
   "cell_type": "markdown",
   "id": "665ad1db",
   "metadata": {},
   "source": [
    "Insight :\n",
    "\n",
    "Dari informasi di atas, sebanyak ~5 juta pengguna yang bertransaksi mulai dari bulan Juni 2020 dengan total ~45 ribu produk terjual. Kemudian untuk eksplorasi selanjutnya akan mengelompokkan data berdasarkan 3 hal:\n",
    "1. tanggal transaksi\n",
    "2. artikel\n",
    "3. customer"
   ]
  },
  {
   "cell_type": "code",
   "execution_count": null,
   "id": "0cea2aad",
   "metadata": {},
   "outputs": [],
   "source": [
    "df_by_day = df_all.groupby(\"t_dat\")\n",
    "df_by_month = df_all.groupby(df_all.t_dat.dt.month)\n",
    "df_by_customers = df_all.groupby(\"customer_id\")\n",
    "df_by_articles = df_all.groupby(\"article_id\")\n"
   ]
  },
  {
   "cell_type": "code",
   "execution_count": null,
   "id": "5434b4a4",
   "metadata": {},
   "outputs": [],
   "source": [
    "df_by_customers"
   ]
  },
  {
   "cell_type": "markdown",
   "id": "a5a0f280",
   "metadata": {},
   "source": [
    "##### Daily Sales"
   ]
  },
  {
   "cell_type": "code",
   "execution_count": null,
   "id": "1a4ad895",
   "metadata": {},
   "outputs": [],
   "source": [
    "daily_sales = df_by_day.agg(daily_sales=pd.NamedAgg(column=\"price\", aggfunc=\"sum\")).reset_index()\n",
    "\n",
    "plt.figure(figsize=(12, 6))\n",
    "sns.lineplot(x=\"t_dat\", y=\"daily_sales\", data=daily_sales)\n",
    "plt.xlabel(\"transaction date\")\n",
    "plt.ylabel(\"daily sales\")\n",
    "plt.show()"
   ]
  },
  {
   "cell_type": "code",
   "execution_count": null,
   "id": "26096f38",
   "metadata": {},
   "outputs": [],
   "source": [
    "monthly_sales = df_by_month.agg(monthly_sales=pd.NamedAgg(column=\"price\", aggfunc=\"sum\")).reset_index()\n",
    "\n",
    "plt.figure(figsize=(12, 6))\n",
    "sns.lineplot(x=\"t_dat\", y=\"monthly_sales\", data=monthly_sales)\n",
    "plt.xticks([6, 7, 8, 9], [\"June\", \"July\", \"August\", \"September\"])\n",
    "plt.ylabel(\"total sales\")\n",
    "plt.show()"
   ]
  },
  {
   "cell_type": "markdown",
   "id": "3ce91bd8",
   "metadata": {},
   "source": [
    "Selanjutnya, untuk melihat behavior dari tiap customer dalam melakukan transaksi, kita akan coba untuk mendapatkan fitur seperti:\n",
    "- jumlah total artikel yang dibeli\n",
    "- jumlah jenis artikel yang dibeli (unique)\n",
    "- total uang yang dikeluarkan\n",
    "- rata-rata transaksi\n",
    "- jumlah hari transaksi\n",
    "- jumlah varian warna"
   ]
  },
  {
   "cell_type": "code",
   "execution_count": null,
   "id": "2c7b4a42",
   "metadata": {},
   "outputs": [],
   "source": [
    "df_customers_agg = df_by_customers.agg(\n",
    "    total_items_bought=pd.NamedAgg(\n",
    "        column=\"article_id\", aggfunc=lambda x: len(list(x))\n",
    "    ),\n",
    "    count_items_bought=pd.NamedAgg(\n",
    "        column=\"article_id\", aggfunc=lambda x: len(set(x))\n",
    "    ),\n",
    "    total_spending=pd.NamedAgg(\n",
    "        column=\"price\", aggfunc=lambda x: sum(x)\n",
    "    ),\n",
    "    avg_spending=pd.NamedAgg(\n",
    "        column=\"price\", aggfunc=lambda x: np.mean(x)\n",
    "    ),\n",
    "    count_buying_day=pd.NamedAgg(\n",
    "        column=\"t_dat\", aggfunc=lambda x: len(set(x))\n",
    "    ),\n",
    "    count_colour_bought=pd.NamedAgg(\n",
    "        column=\"perceived_colour_master_name\", aggfunc=lambda x: len(set(x))\n",
    "    ),\n",
    ").reset_index()"
   ]
  },
  {
   "cell_type": "code",
   "execution_count": null,
   "id": "2ff07f76",
   "metadata": {},
   "outputs": [],
   "source": [
    "# Summary statistics dari customer transaction\n",
    "df_customers_agg.describe().T.round(3)"
   ]
  },
  {
   "cell_type": "code",
   "execution_count": null,
   "id": "db4132d3",
   "metadata": {},
   "outputs": [],
   "source": [
    "# Visualisasikan hubungan antara variabel numerik pada df_customers_agg\n",
    "sns.heatmap(df_customers_agg.corr(), annot=True)\n",
    "plt.show()"
   ]
  },
  {
   "cell_type": "markdown",
   "id": "ec6a5a5b",
   "metadata": {},
   "source": [
    "Selanjutnya, dari data transaksi per artikel (produk), kita akan coba untuk mendapatkan fitur seperti:\n",
    "- total penjualan\n",
    "- gmv (Gross Merchandise Value) per produk\n",
    "- jumlah customer yang membeli produk tersebut"
   ]
  },
  {
   "cell_type": "code",
   "execution_count": null,
   "id": "d5ac27db",
   "metadata": {},
   "outputs": [],
   "source": [
    "df_articles_agg = df_by_articles.agg(\n",
    "    \n",
    "    total_sold=pd.NamedAgg(column=\"article_id\", aggfunc=\"count\"),\n",
    "    \n",
    "    gmv_per_product=pd.NamedAgg(column=\"price\", aggfunc=lambda x: sum(x)*len(x)),\n",
    "    \n",
    "    count_customer_bought=pd.NamedAgg(\n",
    "        \n",
    "        column=\"customer_id\", aggfunc=lambda x: len(set(x))\n",
    "    )\n",
    ").reset_index()"
   ]
  },
  {
   "cell_type": "code",
   "execution_count": null,
   "id": "6e6e39a7",
   "metadata": {},
   "outputs": [],
   "source": [
    "df_articles_agg.tail (5)"
   ]
  },
  {
   "cell_type": "code",
   "execution_count": null,
   "id": "a7a7833a",
   "metadata": {},
   "outputs": [],
   "source": [
    "df_articles_agg.describe().round(2)"
   ]
  },
  {
   "cell_type": "code",
   "execution_count": null,
   "id": "e9664ece",
   "metadata": {},
   "outputs": [],
   "source": [
    "# Visualisasikan hubungan antara variabel numerik pada df_articles_agg\n",
    "sns.heatmap(df_articles_agg.corr(), annot=True)\n",
    "plt.show()"
   ]
  },
  {
   "cell_type": "markdown",
   "id": "34b02753",
   "metadata": {},
   "source": [
    "## MODEL DEVELOPMENT"
   ]
  },
  {
   "cell_type": "code",
   "execution_count": null,
   "id": "5637bd2c",
   "metadata": {},
   "outputs": [],
   "source": [
    "df_articles"
   ]
  },
  {
   "cell_type": "code",
   "execution_count": null,
   "id": "291d3ff4",
   "metadata": {},
   "outputs": [],
   "source": []
  }
 ],
 "metadata": {
  "kernelspec": {
   "display_name": "Python 3",
   "language": "python",
   "name": "python3"
  },
  "language_info": {
   "codemirror_mode": {
    "name": "ipython",
    "version": 3
   },
   "file_extension": ".py",
   "mimetype": "text/x-python",
   "name": "python",
   "nbconvert_exporter": "python",
   "pygments_lexer": "ipython3",
   "version": "3.8.8"
  }
 },
 "nbformat": 4,
 "nbformat_minor": 5
}
